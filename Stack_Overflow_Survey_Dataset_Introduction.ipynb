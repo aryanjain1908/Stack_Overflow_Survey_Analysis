{
 "cells": [
  {
   "cell_type": "markdown",
   "id": "1ac9eebc",
   "metadata": {},
   "source": [
    "# Dataset Choosen"
   ]
  },
  {
   "cell_type": "markdown",
   "id": "289c5283",
   "metadata": {},
   "source": [
    "## stack-overflow-annual-developer-survey-2022"
   ]
  },
  {
   "cell_type": "markdown",
   "id": "84538ff0",
   "metadata": {},
   "source": [
    "## I choosed this data from kaggle\n",
    "## Refrence link of the this is : https://www.kaggle.com/datasets/uzairrehman/stackoverflowannualdevelopersurvey2022?resource=download"
   ]
  },
  {
   "cell_type": "markdown",
   "id": "eb19d956",
   "metadata": {},
   "source": [
    "# Domain of the Dataset\n",
    "## Stack Overflow"
   ]
  },
  {
   "cell_type": "markdown",
   "id": "06f5c795",
   "metadata": {},
   "source": [
    "# About the Domain\n",
    "## Stack overflow is the very popular website which connects the developers together and on this website different developers/students from differnet countries post their problems and different developers/students post the answers of the problem and resolve their isuues. Basically, it's a question and answer website which helps the developers and students a lot."
   ]
  },
  {
   "cell_type": "markdown",
   "id": "e3460000",
   "metadata": {},
   "source": [
    "## This website release the survey form for developers every year and collects the information of different developers which helps to the owner of the website to find best developers to hire and these survey form also helps website to improve. "
   ]
  },
  {
   "cell_type": "markdown",
   "id": "20edff54",
   "metadata": {},
   "source": [
    "# Why I choose only this dataset ?"
   ]
  },
  {
   "cell_type": "markdown",
   "id": "9afcbace",
   "metadata": {},
   "source": [
    "## Actually, in this competitive world surveys is very important for every company to improve their business. In my college also teachers takes survey from the students which helps the teachers to teachs the students in more better way not only in my college, survey forms are everywhere on the competitive websites also after giving competitions/hackathons they asks us to give feedback which helps these websites to improve the user experience and in today's world user satisfaction is very important for every company in every domain to grow their bussiness because without users their is no bussiness."
   ]
  },
  {
   "cell_type": "markdown",
   "id": "f509d489",
   "metadata": {},
   "source": [
    "# About the Dataset"
   ]
  },
  {
   "attachments": {},
   "cell_type": "markdown",
   "id": "ec05e6f3",
   "metadata": {},
   "source": [
    "## This dataset contains about 56 columns which represnts the questions asked from the user and 73269 rows which reprented the user responded to the survey.\n",
    "\n",
    "## About the columns\n",
    " - MainBranch :-\tWhich of the following options best describes you today? Here, by \"developer\" we mean \"someone who writes code.\" \n",
    " - Employment :-\tWhich of the following best describes your current employment status?\n",
    " - RemoteWork :-\tWhich best describes your current work situation?\n",
    " - CodingActivities\tWhich of the following best describes the code you write outside of work? Select all that apply.\n",
    " - EdLevel :-\tWhich of the following best describes the highest level of formal education that you've completed? \n",
    " - LearnCode :-\tHow did you learn to code? Select all that apply.\n",
    " - LearnCodeOnline :-\tWhat online resources do you use to learn to code? Select all that apply.\n",
    " - LearnCodeCoursesCert :-\tWhat online courses or certifications do you use to learn to code? Select all that apply.\n",
    " - YearsCode :-\tIncluding any education, how many years have you been coding in total?\n",
    " - YearsCodePro :-\tNOT including education, how many years have you coded professionally (as a part of your work)?\n",
    " - DevType :-\tWhich of the following describes your current job? Please select all that apply.\n",
    " - OrgSize :-\tApproximately how many people are employed by the company or organization you currently work for? \n",
    " - PurchaseInfluence :-\tWhat level of influence do you, personally, have over new technology purchases at your organization?\n",
    " - BuyNewTool :-\tWhen buying a new tool or software, how do you discover and research available solutions? Select all that apply.\n",
    " - Country :-\tWhere do you live?\n",
    " - Currency :-\tWhich currency do you use day-to-day? If your answer is complicated, please pick the one you're most comfortable estimating in.\n",
    " - CompTotal :-\tWhat is your current total compensation (salary, bonuses, and perks, before taxes and deductions)? Please enter a whole number in the box below, without any punctuation.  If you are paid hourly, please estimate an equivalent weekly, monthly, or yearly salary. If you prefer not to answer, please leave the box empty.\n",
    " - CompFreq :-\tIs that compensation weekly, monthly, or yearly?\n",
    " - LanguageWantToWorkWith :-\t which  programming, scripting, and markup languages do you want to work in over the next year? \n",
    " - LanguageHaveWorkedWith :-\tWhich programming, scripting, and markup languages have you done extensive development work in over the past year.\n",
    " - Database :-\tWhich database environments have you done extensive development work in over the past year, and which do you want to work in over the next year? (If you both worked with the database and want to continue to do so, please check both boxes in that row.)\n",
    " - Platform :-\tWhich cloud platforms have you done extensive development work in over the past year, and which do you want to work in over the next year? (If you both worked with the platform and want to continue to do so, please check both boxes in that row.)\n",
    " - Webframe :-\tWhich web frameworks and web technologies have you done extensive development work in over the past year, and which do you want to work in over the next year? (If you both worked with the framework and want to continue to do so, please check both boxes in that row.)\n",
    " - MiscTech :-\tWhich other frameworks and libraries have you done extensive development work in over the past year, and which do you want to work in over the next year? (If you both worked with the framework and want to continue to do so, please check both boxes in that row.)\n",
    " - ToolsTech :-\tWhich developer tools have you done extensive development work in over the past year, and which do you want to work in over the next year? (If you both worked with the technology and want to continue to do so, please check both boxes in that row.)\n",
    " - NEWCollabTools :-\tWhich development environments did you use regularly over the past year, and which do you want to work with over the next year? Please check all that apply.\n",
    " - OpSys :-\tWhat is the primary operating system in which you work? \n",
    " - VersionControlSystem :-\tWhat are the primary version control systems you use? Select all that apply.\n",
    " - VCInteraction :-\tHow do you interact with your version control system? Select all that apply.\n",
    " - VCHosting :-\tWhat version control hosting service are you using?\n",
    " - OfficeStackAsync :-\tWhich collaborative work management tools did you use regularly over the past year, and which do you want to work with over the next year? Select all that apply\n",
    " - OfficeStackSync :-\tWhich communication tools did you use regularly over the past year, and which do you want to work with over the next year? Select all that apply\n",
    " - Blockchain :-\tHow favorable are you about blockchain, crypto, and decentralization?\n",
    " - NEWSOSites :-\tWhich of the following Stack Overflow sites have you visited? Select all that apply.\n",
    " - SOVisitFreq :-\tHow frequently would you say you visit Stack Overflow?\n",
    " - SOAccount :-\tDo you have a Stack Overflow account?\n",
    " - SOPartFreq :-\tHow frequently would you say you participate in Q & A on Stack Overflow? By participate we mean ask, answer, vote for, or comment on questions.\n",
    " - SOComm :-\tDo you consider yourself a member of the Stack Overflow community?\n",
    " - Age :-\tWhat is your age?\n",
    " - Gender :-\tWhich of the following describe you, if any? Please check all that apply.\n",
    " - Trans :-\tDo you identify as transgender?\n",
    " - Sexuality :-\tWhich of the following describe you, if any? Please check all that apply.\n",
    " - Ethnicity :-\tWhich of the following describe you, if any? Please check all that apply.\n",
    " - Accessibility :-\tWhich of the following describe you, if any? Please check all that apply. \n",
    " - MentalHealth :-\tWhich of the following describe you, if any? Please check all that apply. \n",
    " - Tbranch :-\tWould you like to participate in the Professional Developer Series?\n",
    " - ICorPM :-\tAre you an independent contributor or people manager?\n",
    " - WorkExp :-\tHow many years of working experience do you have?\n",
    " - Knowledge :-\tPlease rate your level of agreement with the following statement:\n",
    " - Frequency :-\tHow frequently do you experience each of the following?\n",
    " - TimeSearching :-\tOn an average day, how much time do you typically spend searching for answers or solutions to problems you encounter at work? (This includes time spent searching on your own, asking a colleague, and waiting for a response).\n",
    " - TimeAnswering :-\tOn an average day, how much time do you typically spend answering questions you get asked at work?\n",
    " - Onboarding :-\tThe time it takes to onboard new hires at my company is:\n",
    " - SOTeamsUsage :-\tDoes your team use Stack Overflow for Teams?\n",
    " - SurveyLength :-\tHow do you feel about the length of the survey this year?\n",
    " - SurveyEase :-\tHow easy or difficult was this survey to complete?"
   ]
  },
  {
   "cell_type": "markdown",
   "id": "d7d17b9c",
   "metadata": {},
   "source": [
    "# Intutions make from this dataset"
   ]
  },
  {
   "cell_type": "markdown",
   "id": "21d13bd6",
   "metadata": {},
   "source": [
    " - Common type of survey questions used by these type of websites\n",
    " - What should be the survey length\n",
    " - Difficulty level of the survey form\n",
    " - Average time to answer/search the question\n",
    " - Average work experience according to the level of the knowledge in every type of field\n",
    " - Number of peoples wants to become professionals developers\n",
    " - We can compare level of knowledge based on their ages and gender\n",
    " - Number of people used Stack Overflw\n",
    " - Number of users use stack overflow regularly\n",
    " - Which type of coding language users mostly use\n",
    " - Popular coding languages\n",
    " - Number of people belongs to the differnnt type of education level\n",
    " - Trending learning course\n",
    " - Number of people use online learning courses paid/unpaid which helps the company to launch their new feature of online treanding course at best price\n",
    " - Finding top developers in every type of branch according to their past experience, education level which helps the company to hire the best developer\n",
    " - Finding best developers who are currently not doing job which helps company to hire these type of people at low packages and also it provides employement to the developers\n",
    " - Types of software used in the coding companies\n",
    " - Number of developers belongs to which country\n",
    " - Maximum number of developers belongs to which country\n",
    " - What type of currency people used in day to day life for transactions which helps the company to improve their transaction page\n",
    " - Which type of environment mostly used to design the database\n",
    " - What type of cloud platform mostly used\n",
    " - What type of web framework mostly used\n",
    " - What type of develope tools are used which helps the company a lot to launch own develope tool to attract the developers\n",
    " - Which type of development enviroment are used \n",
    " - Primary operationg system used\n",
    " - Operating system used according to developer role\n",
    " - Which type of communicationg tools mostly used which helps the company to expand their bussiness\n",
    " - Websites freuently visits\n",
    " - How many people questioning and answering frequently on stack overflow website\n",
    " - Average salary according to their roles"
   ]
  },
  {
   "cell_type": "markdown",
   "id": "15dda7bd",
   "metadata": {},
   "source": [
    "## To download the dataset refer this link : https://drive.google.com/file/d/1h0ONBV8zd5Xf77eqVv5HPSwhVkUusX2e/view?usp=sharing"
   ]
  }
 ],
 "metadata": {
  "kernelspec": {
   "display_name": "Python 3 (ipykernel)",
   "language": "python",
   "name": "python3"
  },
  "language_info": {
   "codemirror_mode": {
    "name": "ipython",
    "version": 3
   },
   "file_extension": ".py",
   "mimetype": "text/x-python",
   "name": "python",
   "nbconvert_exporter": "python",
   "pygments_lexer": "ipython3",
   "version": "3.9.12"
  }
 },
 "nbformat": 4,
 "nbformat_minor": 5
}
